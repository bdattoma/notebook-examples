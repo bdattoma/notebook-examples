{
 "cells": [
  {
   "cell_type": "code",
   "execution_count": null,
   "metadata": {},
   "outputs": [],
   "source": [
    "import os\n",
    "KAFKA_BOOTSTRAP_SERVER = os.environ.get('KAFKA_BOOTSTRAP_SERVER')\n",
    "KAFKA_USERNAME = os.environ.get('KAFKA_USERNAME')\n",
    "KAFKA_PASSWORD = os.environ.get('KAFKA_PASSWORD')\n",
    "KAFKA_TOPIC = os.environ.get('KAFKA_TOPIC')\n",
    "KAFKA_CONSUMER_GROUP = os.environ.get('KAFKA_CONSUMER_GROUP') or 'qe-cg-autotest'\n",
    "from kafka import KafkaConsumer\n",
    "\n",
    "def create_consumer_print():\n",
    "    consumer = KafkaConsumer(KAFKA_TOPIC,\n",
    "                             group_id=KAFKA_CONSUMER_GROUP,\n",
    "                             bootstrap_servers=[KAFKA_BOOTSTRAP_SERVER],\n",
    "                             security_protocol='SASL_SSL',\n",
    "                             sasl_mechanism='PLAIN',\n",
    "                             # auto_offset_reset='earliest',\n",
    "                             sasl_plain_username=KAFKA_USERNAME,\n",
    "                             sasl_plain_password=KAFKA_PASSWORD,\n",
    "                             api_version_auto_timeout_ms=30000,\n",
    "                             request_timeout_ms=450000)\n",
    "    print(f'Subscribed to \"{KAFKA_BOOTSTRAP_SERVER}\" consuming topic \"{KAFKA_TOPIC}\"...')\n",
    "    try:\n",
    "        for record in consumer:\n",
    "            msg = record.value.decode('utf-8')\n",
    "            topic = record.topic\n",
    "            print((f'\"{KAFKA_TOPIC}\": {msg}'))\n",
    "    finally:\n",
    "        print(\"Closing consumer...\")\n",
    "        consumer.close()\n",
    "    print(\"Kafka consumer stopped.\")\n",
    "try:\n",
    "    create_consumer_print()\n",
    "except KeyboardInterrupt:\n",
    "    print('Stopped')\n"
   ]
  },
  {
   "cell_type": "code",
   "execution_count": null,
   "metadata": {},
   "outputs": [],
   "source": []
  }
 ],
 "metadata": {
  "interpreter": {
   "hash": "767d51c1340bd893661ea55ea3124f6de3c7a262a8b4abca0554b478b1e2ff90"
  },
  "kernelspec": {
   "display_name": "Python 3.8.8 64-bit",
   "name": "python3"
  },
  "language_info": {
   "name": "python",
   "version": ""
  }
 },
 "nbformat": 4,
 "nbformat_minor": 4
}