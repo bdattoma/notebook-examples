{
 "cells": [
  {
   "cell_type": "markdown",
   "metadata": {},
   "source": [
    "# Boto3 S3 Resource Examples"
   ]
  },
  {
   "cell_type": "markdown",
   "metadata": {},
   "source": [
    "## Install Requirements"
   ]
  },
  {
   "cell_type": "code",
   "execution_count": null,
   "metadata": {},
   "outputs": [],
   "source": [
    "import sys\n",
    "!pip install boto3"
   ]
  },
  {
   "cell_type": "markdown",
   "metadata": {},
   "source": [
    "## Boto 3 Resource Examples\n",
    "\n",
    "Boto 3 Resources are a high level object oriented implementation."
   ]
  },
  {
   "cell_type": "markdown",
   "metadata": {},
   "source": [
    "### Create the S3 Resource\n",
    "\n",
    "To connect to Ceph or other S3 API compatible storage, you'll need to specify `endpoint_url` but for AWS, you can omit that parameter\n",
    "\n",
    "```python\n",
    "session = boto3.session.Session(aws_access_key_id='',\n",
    "                                aws_secret_access_key='')\n",
    "\n",
    "s3_resource = session.resource(\n",
    "    's3',\n",
    "    config=botocore.client.Config(signature_version='s3v4'),\n",
    "    endpoint_url='https://s3.amazonaws.com',\n",
    "    region_name='us-east-1')\n",
    ")\n",
    "```"
   ]
  },
  {
   "cell_type": "code",
   "execution_count": null,
   "metadata": {},
   "outputs": [],
   "source": [
    "import os\n",
    "import boto3\n",
    "import botocore\n",
    "\n",
    "key_id = os.environ.get('S3_ACCESS_KEY_ID')\n",
    "secret_key = os.environ.get('S3_SECRET_ACCESS_KEY')\n",
    "\n",
    "session = boto3.session.Session(aws_access_key_id=key_id,\n",
    "                                aws_secret_access_key=secret_key)\n",
    "\n",
    "s3_resource = session.resource(\n",
    "    's3',\n",
    "    config=botocore.client.Config(signature_version='s3v4')\n",
    ")\n",
    "\n"
   ]
  },
  {
   "cell_type": "markdown",
   "metadata": {},
   "source": [
    "### List Buckets"
   ]
  },
  {
   "cell_type": "code",
   "execution_count": null,
   "metadata": {},
   "outputs": [],
   "source": [
    "for bucket in s3_resource.buckets.all():\n",
    "    print(bucket.name)"
   ]
  },
  {
   "cell_type": "markdown",
   "metadata": {},
   "source": [
    "### List objects in a single bucket"
   ]
  },
  {
   "cell_type": "code",
   "execution_count": null,
   "metadata": {},
   "outputs": [],
   "source": [
    "# list all files in a bucket\n",
    "bucket = s3_resource.Bucket('rhods-pilot')\n",
    "for obj in bucket.objects.all():\n",
    "    print(obj.key, obj.last_modified)"
   ]
  },
  {
   "cell_type": "markdown",
   "metadata": {},
   "source": [
    "### List objects in a \"subdirectory\" prefix"
   ]
  },
  {
   "cell_type": "code",
   "execution_count": null,
   "metadata": {},
   "outputs": [],
   "source": [
    "bucket = s3_resource.Bucket('rhods-pilot')\n",
    "filter = bucket.objects.filter(Prefix='s3-folder')\n",
    "file_list = filter.all()\n",
    "    \n",
    "for obj in file_list:\n",
    "    print(obj.key, obj.last_modified)"
   ]
  },
  {
   "cell_type": "markdown",
   "metadata": {},
   "source": [
    "### Download all files in a bucket"
   ]
  },
  {
   "cell_type": "code",
   "execution_count": null,
   "metadata": {},
   "outputs": [],
   "source": [
    "import os\n",
    "\n",
    "s3_source_dir = ''\n",
    "local_dest_dir = os.path.join(os.getcwd(), 'downloaded-bucket')\n",
    "\n",
    "full_prefix = os.path.join('', s3_source_dir)\n",
    "bucket = s3_resource.Bucket('rhods-pilot')\n",
    "\n",
    "for obj in bucket.objects.filter(Prefix=full_prefix).all():\n",
    "    new_file_path = os.path.join(local_dest_dir, obj.key)\n",
    "    print(new_file_path)\n",
    "    \n",
    "    try:\n",
    "        os.makedirs(os.path.dirname(new_file_path))\n",
    "    except OSError:\n",
    "        pass\n",
    "    \n",
    "    if new_file_path.endswith('/'):\n",
    "        continue\n",
    "        \n",
    "    if os.path.exists(new_file_path):\n",
    "        os.remove(new_file_path)\n",
    "\n",
    "    bucket.download_file(obj.key, new_file_path)\n"
   ]
  },
  {
   "cell_type": "markdown",
   "metadata": {},
   "source": [
    "### Downloaded prefixed files in a \"subdirectory\""
   ]
  },
  {
   "cell_type": "code",
   "execution_count": null,
   "metadata": {},
   "outputs": [],
   "source": [
    "import os\n",
    "\n",
    "\n",
    "s3_source_dir = 's3-folder'\n",
    "local_dest_dir = os.path.join(os.getcwd(), 'downloaded-folder')\n",
    "\n",
    "bucket = s3_resource.Bucket('rhods-pilot')\n",
    "\n",
    "for obj in bucket.objects.filter(Prefix=s3_source_dir).all():\n",
    "    stripped_key = obj.key.replace(s3_source_dir, '')\n",
    "    if stripped_key.startswith('/'):\n",
    "        stripped_key = stripped_key[1:]\n",
    "    new_file_path = os.path.join(local_dest_dir, stripped_key)    \n",
    "    print(new_file_path)\n",
    "    \n",
    "    try:\n",
    "        os.makedirs(os.path.dirname(new_file_path))\n",
    "    except OSError:\n",
    "        pass\n",
    "    \n",
    "    if new_file_path.endswith('/'):\n",
    "        continue\n",
    "        \n",
    "    if os.path.exists(new_file_path):\n",
    "        os.remove(new_file_path)\n",
    "\n",
    "    bucket.download_file(obj.key, new_file_path)\n",
    "\n"
   ]
  },
  {
   "cell_type": "code",
   "execution_count": null,
   "metadata": {},
   "outputs": [],
   "source": []
  }
 ],
 "metadata": {
  "kernelspec": {
   "display_name": "Python 3",
   "language": "python",
   "name": "python3"
  },
  "language_info": {
   "codemirror_mode": {
    "name": "ipython",
    "version": 3
   },
   "file_extension": ".py",
   "mimetype": "text/x-python",
   "name": "python",
   "nbconvert_exporter": "python",
   "pygments_lexer": "ipython3",
   "version": "3.8.3"
  }
 },
 "nbformat": 4,
 "nbformat_minor": 4
}
