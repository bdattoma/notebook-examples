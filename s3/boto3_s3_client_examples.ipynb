{
 "cells": [
  {
   "cell_type": "markdown",
   "metadata": {},
   "source": [
    "# Boto3 S3 Client Examples"
   ]
  },
  {
   "cell_type": "markdown",
   "metadata": {},
   "source": [
    "## Install Requirements"
   ]
  },
  {
   "cell_type": "code",
   "execution_count": null,
   "metadata": {},
   "outputs": [],
   "source": [
    "import sys\n",
    "!pip install boto3"
   ]
  },
  {
   "cell_type": "markdown",
   "metadata": {},
   "source": [
    "## Boto 3 Client Examples\n",
    "\n",
    "The boto3 client is a more low level implementation that closely mirrors the API.\n"
   ]
  },
  {
   "cell_type": "markdown",
   "metadata": {},
   "source": [
    "### Create the S3 Client\n",
    "\n",
    "To connect to Ceph or other S3 API compatible storage, you'll need to specify `endpoint_url` but for AWS, you can omit that parameter\n",
    "\n",
    "```python\n",
    "s3 = boto3.client('s3',\n",
    "                  endpoint_url='https://s3.amazonaws.com',\n",
    "                  aws_access_key_id='your_aws_access_key_id',\n",
    "                  aws_secret_access_key='your_aws_secret_access_key',\n",
    "                  region_name='us-east-1')\n",
    "\n",
    "```"
   ]
  },
  {
   "cell_type": "code",
   "execution_count": null,
   "metadata": {},
   "outputs": [],
   "source": [
    "import os\n",
    "import boto3\n",
    "\n",
    "key_id = os.environ.get('S3_ACCESS_KEY_ID')\n",
    "secret_key = os.environ.get('S3_SECRET_ACCESS_KEY')\n",
    "\n",
    "session = boto3.session.Session(aws_access_key_id=key_id,\n",
    "                                aws_secret_access_key=secret_key)\n",
    "\n",
    "s3_client = boto3.client('s3',\n",
    "                  aws_access_key_id=key_id,\n",
    "                  aws_secret_access_key=secret_key)\n",
    "\n"
   ]
  },
  {
   "cell_type": "markdown",
   "metadata": {},
   "source": [
    "### List Buckets"
   ]
  },
  {
   "cell_type": "code",
   "execution_count": null,
   "metadata": {},
   "outputs": [],
   "source": [
    "response = s3_client.list_buckets()\n",
    "\n",
    "for bucket in response['Buckets']:\n",
    "    print(bucket[\"Name\"])\n",
    "    "
   ]
  },
  {
   "cell_type": "markdown",
   "metadata": {},
   "source": [
    "### List objects in a single bucket"
   ]
  },
  {
   "cell_type": "code",
   "execution_count": null,
   "metadata": {},
   "outputs": [],
   "source": [
    "paginator = s3_client.get_paginator('list_objects')\n",
    "operation_parameters = {'Bucket': 'rhods-pilot'}\n",
    "page_iterator = paginator.paginate(**operation_parameters)\n",
    "for page in page_iterator:\n",
    "    for obj in page['Contents']:\n",
    "        print(obj['Key'], obj['LastModified'])  "
   ]
  },
  {
   "cell_type": "markdown",
   "metadata": {},
   "source": [
    "### List objects in a \"subdirectory\" prefix"
   ]
  },
  {
   "cell_type": "code",
   "execution_count": null,
   "metadata": {},
   "outputs": [],
   "source": [
    "paginator = s3_client.get_paginator('list_objects')\n",
    "operation_parameters = {'Bucket': 'rhods-pilot',\n",
    "                        'Prefix': 's3-folder'}\n",
    "page_iterator = paginator.paginate(**operation_parameters)\n",
    "for page in page_iterator:\n",
    "    for obj in page['Contents']:\n",
    "        print(obj['Key'], obj['LastModified'])  "
   ]
  },
  {
   "cell_type": "markdown",
   "metadata": {},
   "source": [
    "### Download single file"
   ]
  },
  {
   "cell_type": "code",
   "execution_count": null,
   "metadata": {},
   "outputs": [],
   "source": [
    "import os\n",
    "\n",
    "s3_source_dir = ''\n",
    "local_dest_dir = os.path.join(os.getcwd(), 'downloaded-bucket')\n",
    "\n",
    "paginator = s3_client.get_paginator('list_objects')\n",
    "bucket_name = 'rhods-pilot'\n",
    "operation_parameters = {'Bucket': bucket_name}\n",
    "\n",
    "page_iterator = paginator.paginate(**operation_parameters)\n",
    "for page in page_iterator:\n",
    "    for obj in page['Contents']:\n",
    "        new_file_path = os.path.join(local_dest_dir, obj['Key'])\n",
    "        print(new_file_path)\n",
    "\n",
    "        try:\n",
    "            os.makedirs(os.path.dirname(new_file_path))\n",
    "        except OSError:\n",
    "            pass\n",
    "\n",
    "        if new_file_path.endswith('/'):\n",
    "            continue\n",
    "\n",
    "        if os.path.exists(new_file_path):\n",
    "            os.remove(new_file_path)\n",
    "\n",
    "        s3_client.download_file(bucket_name, obj['Key'], new_file_path)"
   ]
  },
  {
   "cell_type": "markdown",
   "metadata": {},
   "source": [
    "### Download all files in a bucket"
   ]
  },
  {
   "cell_type": "code",
   "execution_count": null,
   "metadata": {},
   "outputs": [],
   "source": [
    "import os\n",
    "\n",
    "s3_source_dir = ''\n",
    "local_dest_dir = os.path.join(os.getcwd(), 'downloaded-bucket')\n",
    "\n",
    "paginator = s3_client.get_paginator('list_objects')\n",
    "bucket_name = 'rhods-pilot'\n",
    "operation_parameters = {'Bucket': bucket_name}\n",
    "\n",
    "page_iterator = paginator.paginate(**operation_parameters)\n",
    "for page in page_iterator:\n",
    "    for obj in page['Contents']:\n",
    "        new_file_path = os.path.join(local_dest_dir, obj['Key'])\n",
    "        print(new_file_path)\n",
    "\n",
    "        try:\n",
    "            os.makedirs(os.path.dirname(new_file_path))\n",
    "        except OSError:\n",
    "            pass\n",
    "\n",
    "        if new_file_path.endswith('/'):\n",
    "            continue\n",
    "\n",
    "        if os.path.exists(new_file_path):\n",
    "            os.remove(new_file_path)\n",
    "\n",
    "        s3_client.download_file(bucket_name, obj['Key'], new_file_path)\n"
   ]
  },
  {
   "cell_type": "markdown",
   "metadata": {},
   "source": [
    "### Downloaded prefixed files in a \"subdirectory\""
   ]
  },
  {
   "cell_type": "code",
   "execution_count": null,
   "metadata": {},
   "outputs": [],
   "source": [
    "import os\n",
    "\n",
    "\n",
    "s3_source_dir = 's3-folder'\n",
    "local_dest_dir = os.path.join(os.getcwd(), 'downloaded-folder')\n",
    "   \n",
    "paginator = s3_client.get_paginator('list_objects')\n",
    "bucket_name = 'rhods-pilot'\n",
    "operation_parameters = {'Bucket': bucket_name,\n",
    "                        'Prefix': s3_source_dir}\n",
    "page_iterator = paginator.paginate(**operation_parameters)\n",
    "\n",
    "for page in page_iterator:\n",
    "    for obj in page['Contents']:\n",
    "        stripped_key = obj['Key'].replace(s3_source_dir, '')\n",
    "        if stripped_key.startswith('/'):\n",
    "            stripped_key = stripped_key[1:]\n",
    "        new_file_path = os.path.join(local_dest_dir, stripped_key)    \n",
    "        print(new_file_path)\n",
    "\n",
    "        try:\n",
    "            os.makedirs(os.path.dirname(new_file_path))\n",
    "        except OSError:\n",
    "            pass\n",
    "\n",
    "        if new_file_path.endswith('/'):\n",
    "            continue\n",
    "\n",
    "        if os.path.exists(new_file_path):\n",
    "            os.remove(new_file_path)\n",
    "\n",
    "        s3_client.download_file(bucket_name, obj['Key'], new_file_path)\n"
   ]
  },
  {
   "cell_type": "code",
   "execution_count": null,
   "metadata": {},
   "outputs": [],
   "source": []
  }
 ],
 "metadata": {
  "kernelspec": {
   "display_name": "Python 3",
   "language": "python",
   "name": "python3"
  },
  "language_info": {
   "codemirror_mode": {
    "name": "ipython",
    "version": 3
   },
   "file_extension": ".py",
   "mimetype": "text/x-python",
   "name": "python",
   "nbconvert_exporter": "python",
   "pygments_lexer": "ipython3",
   "version": "3.6.8"
  }
 },
 "nbformat": 4,
 "nbformat_minor": 4
}
